{
 "cells": [
  {
   "cell_type": "markdown",
   "metadata": {},
   "source": [
    "# **M1. ACTIVIDAD**\n",
    "Yuna Chung A01709043"
   ]
  },
  {
   "cell_type": "markdown",
   "metadata": {},
   "source": [
    "## **Propósito**\n",
    "Conocer y aplicar una herramienta para la implementación de sistemas multiagentes."
   ]
  },
  {
   "cell_type": "markdown",
   "metadata": {},
   "source": [
    "# **Instrucciones**\n",
    "Para este problema, debereás entregar, **de manera individual**, un informe en PDF que estudie las estadísticas de un robot de limpieza reactivo, así como el enlace al repositorio en Github del código desarrollado para esta actividad. El código debe ajustarse al estilo soclicita en el siguiente documento.\n",
    "\n",
    "**Dado:**\n",
    "- Habitación de MxN espacios\n",
    "- Número de agentes\n",
    "- Porcentaje de celdas inicialmente sucias\n",
    "- Tiempo máximo de ejecución\n",
    "\n",
    "**Realiza la siguiente simulación:**\n",
    "- Inicializa las celdas sucias (ubicaciones aleatorias)\n",
    "- Todos los agentes empiezan en la celda [1,1]\n",
    "- En cada paso de tiempo:\n",
    "    - Si la celda está sucia, entonces aspira\n",
    "    - Si la celda está limpia, el agente elije una dirección aleatoria para moverse (unas de las 8 celdas vecinas) y elije la acción de movimiento (si no puede moverse allí, permanecerá en la misma celda)\n",
    "- Se ejecuta el tiempo máximo establecido\n",
    "\n",
    "**Deberás recopilar la siguiente información durante la ejecución:**\n",
    "- Tiempo necesario hasta que todas las celdas estén limpias (o se haya llegado al tiempo máximo)\n",
    "- Porcentaje de celdas limpias después del termino de la simulación\n",
    "Número de movimientos realizados por todos los agentes.\n",
    "\n",
    "Analiza cómo la cantidad de agentes impacta el tiempo dedicado, así como la cantidad de movimientos realizados. Desarrollar un informe con lo observado."
   ]
  },
  {
   "cell_type": "code",
   "execution_count": null,
   "metadata": {},
   "outputs": [],
   "source": [
    "from mesa import Agent, Model\n",
    "\n",
    "from mesa.space import MultiGrid\n",
    "\n",
    "from mesa.time import RandomActivation\n",
    "\n",
    "from mesa.datacollection import DataCollector\n",
    "\n",
    "%matplotlib inline\n",
    "import matplotlib\n",
    "import matplotlib.pyplot as plt\n",
    "import matplotlib.animation as animation\n",
    "plt.rcParams[\"animation.html\"] = \"jshtml\"\n",
    "matplotlib.rcParams['animation.embed_limit'] = 2**128\n",
    "\n",
    "import numpy as np\n",
    "import pandas as pd\n",
    "\n",
    "import time as tm"
   ]
  },
  {
   "cell_type": "code",
   "execution_count": null,
   "metadata": {},
   "outputs": [],
   "source": [
    "class CleaningRobot(Agent):\n",
    "    def __init__(self, id, model):\n",
    "        super().__init__(id, model)\n",
    "\n",
    "    def step(self):\n",
    "        if (self.model.floor[self.pos[0]][self.pos[1]] == 1):\n",
    "            self.clean()\n",
    "        self.move()\n",
    "    \n",
    "    def clean(self):\n",
    "        self.model.floor[self.pos[0]][self.pos[1]] = 0\n",
    "\n",
    "    def move(self):\n",
    "        neigbhor_cells = self.model.grid.get_neighborhood(self.pos, \n",
    "                                                          moore=True, \n",
    "                                                          include_center=False)\n",
    "        is_possible = [step for step in neigbhor_cells if self.model.grid.is_cell_empty(step)]\n",
    "\n",
    "        if is_possible:\n",
    "            self.model.grid.move_agent(self, self.random.choice(is_possible))"
   ]
  },
  {
   "cell_type": "code",
   "execution_count": null,
   "metadata": {},
   "outputs": [],
   "source": [
    "class CleaningModel(Model):\n",
    "    def __init__(self, width, height, dirty_probability, num_agents):\n",
    "        self.num_agents = num_agents\n",
    "        self.initial_time = None\n",
    "        self.width = width\n",
    "        self.height = height\n",
    "        self.grid = MultiGrid(width, height, torus = False)\n",
    "        self.schedule = RandomActivation(self)\n",
    "        self.floor = np.zeros((width, height))\n",
    "        self.datacollector = DataCollector(\n",
    "            model_reporters = {\"Cleaned\": self.count_clean,\n",
    "                               \"Position\": self.find_position},\n",
    "        )\n",
    "\n",
    "        for i in range(self.num_agents):\n",
    "            agent = CleaningRobot(i, self)\n",
    "            self.grid.place_agent(agent, (1,1))\n",
    "            self.schedule.add(agent)\n",
    "\n",
    "        for x in range(self.grid.width):\n",
    "            for y in range(self.grid.height):\n",
    "                if self.random.random() < dirty_probability:\n",
    "                    self.floor[x][y] = 1\n",
    "\n",
    "    def count_clean(self):\n",
    "        return self.floor.copy()\n",
    "    \n",
    "    def find_position(self):\n",
    "        agent_position = np.zeros((self.width, self.height))\n",
    "        for agent in self.schedule.agents:\n",
    "            agent_position[agent.pos[0]][agent.pos[1]] = 1\n",
    "        return agent_position\n",
    "\n",
    "    def step(self):\n",
    "        if self.initial_time is None:\n",
    "            self.initial_time = tm.time()\n",
    "\n",
    "        self.datacollector.collect(self)\n",
    "        self.schedule.step()"
   ]
  },
  {
   "cell_type": "code",
   "execution_count": null,
   "metadata": {},
   "outputs": [],
   "source": [
    "WIDTH = 10\n",
    "HEIGHT = 10\n",
    "MAX_STEPS = 100\n",
    "DIRTY_PROBABILITY = 0.9\n",
    "NUM_AGENTS = 2\n",
    "\n",
    "model = CleaningModel(WIDTH, HEIGHT, DIRTY_PROBABILITY, NUM_AGENTS)\n",
    "for i in range(MAX_STEPS):\n",
    "    model.step()"
   ]
  },
  {
   "cell_type": "code",
   "execution_count": null,
   "metadata": {},
   "outputs": [],
   "source": [
    "all_grids = model.datacollector.get_model_vars_dataframe()"
   ]
  },
  {
   "cell_type": "code",
   "execution_count": null,
   "metadata": {},
   "outputs": [],
   "source": [
    "fig, axis = plt.subplots(figsize=(5, 5))\n",
    "axis.set_xticks([])\n",
    "axis.set_yticks([])\n",
    "\n",
    "data = all_grids.get(\"Clean\") + 3 * all_grids.get(\"Position\")\n",
    "patch = plt.imshow(data[0], cmap=plt.cm.binary)\n",
    "\n",
    "def animate(frame):\n",
    "    patch.set_data(data[frame])\n",
    "\n",
    "anim = animation.FuncAnimation(fig, animate, frames=MAX_STEPS)\n",
    "\n",
    "end_time = tm.time()\n",
    "cleaning_time = float(\"{:.5f}\".format(end_time - model.initial_time))\n",
    "print(\"Time to clean: \",cleaning_time, \" seconds\")\n",
    "\n",
    "dirty_cells = all_grids.iloc[MAX_STEPS - 1][0].sum()\n",
    "print(\"Dirty cells: \", dirty_cells)\n",
    "print(\"Dirty cells percentage: \", dirty_cells / (WIDTH * HEIGHT) * 100)"
   ]
  },
  {
   "cell_type": "code",
   "execution_count": null,
   "metadata": {},
   "outputs": [],
   "source": [
    "anim"
   ]
  }
 ],
 "metadata": {
  "language_info": {
   "name": "python"
  }
 },
 "nbformat": 4,
 "nbformat_minor": 2
}
