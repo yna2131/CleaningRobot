{
 "cells": [
  {
   "cell_type": "markdown",
   "metadata": {},
   "source": [
    "# **M1. ACTIVIDAD**\n",
    "Yuna Chung A01709043"
   ]
  },
  {
   "cell_type": "markdown",
   "metadata": {},
   "source": [
    "## **Propósito**\n",
    "Conocer y aplicar una herramienta para la implementación de sistemas multiagentes."
   ]
  },
  {
   "cell_type": "markdown",
   "metadata": {},
   "source": [
    "# **Instrucciones**\n",
    "Para este problema, debereás entregar, **de manera individual**, un informe en PDF que estudie las estadísticas de un robot de limpieza reactivo, así como el enlace al repositorio en Github del código desarrollado para esta actividad. El código debe ajustarse al estilo soclicita en el siguiente documento.\n",
    "\n",
    "**Dado:**\n",
    "- Habitación de MxN espacios\n",
    "- Número de agentes\n",
    "- Porcentaje de celdas inicialmente sucias\n",
    "- Tiempo máximo de ejecución\n",
    "\n",
    "**Realiza la siguiente simulación:**\n",
    "- Inicializa las celdas sucias (ubicaciones aleatorias)\n",
    "- Todos los agentes empiezan en la celda [1,1]\n",
    "- En cada paso de tiempo:\n",
    "    - Si la celda está sucia, entonces aspira\n",
    "    - Si la celda está limpia, el agente elije una dirección aleatoria para moverse (unas de las 8 celdas vecinas) y elije la acción de movimiento (si no puede moverse allí, permanecerá en la misma celda)\n",
    "- Se ejecuta el tiempo máximo establecido\n",
    "\n",
    "**Deberás recopilar la siguiente información durante la ejecución:**\n",
    "- Tiempo necesario hasta que todas las celdas estén limpias (o se haya llegado al tiempo máximo)\n",
    "- Porcentaje de celdas limpias después del termino de la simulación\n",
    "Número de movimientos realizados por todos los agentes.\n",
    "\n",
    "Analiza cómo la cantidad de agentes impacta el tiempo dedicado, así como la cantidad de movimientos realizados. Desarrollar un informe con lo observado."
   ]
  },
  {
   "cell_type": "code",
   "execution_count": null,
   "metadata": {},
   "outputs": [],
   "source": [
    "from mesa import Agent, Model\n",
    "\n",
    "from mesa.space import MultiGrid\n",
    "\n",
    "from mesa.time import RandomActivation\n",
    "\n",
    "from mesa.datacollection import DataCollector\n",
    "\n",
    "%matplotlib inline\n",
    "import matplotlib\n",
    "import matplotlib.pyplot as plt\n",
    "import matplotlib.animation as animation\n",
    "plt.rcParams[\"animation.html\"] = \"jshtml\"\n",
    "matplotlib.rcParams['animation.embed_limit'] = 2**128\n",
    "\n",
    "import numpy as np\n",
    "import pandas as pd\n",
    "\n",
    "import time as tm"
   ]
  },
  {
   "cell_type": "code",
   "execution_count": null,
   "metadata": {},
   "outputs": [],
   "source": [
    "class CleaningRobot(Agent):\n",
    "    def __init__(self, id, model):\n",
    "        super().__init__(id, model)\n",
    "\n",
    "    def step(self):\n",
    "        if (self.model.floor[self.pos[0]][self.pos[1]] == 1):\n",
    "            self.clean()\n",
    "        self.move()\n",
    "    \n",
    "    def clean(self):\n",
    "        self.model.floor[self.pos[0]][self.pos[1]] = 0\n",
    "\n",
    "    def move(self):\n",
    "        neigbhor_cells = self.model.grid.get_neighborhood(self.pos, \n",
    "                                                          moore=True, \n",
    "                                                          include_center=False)\n",
    "        is_possible = [step for step in neigbhor_cells if self.model.grid.is_cell_empty(step)]\n",
    "\n",
    "        if is_possible:\n",
    "            self.model.grid.move_agent(self, self.random.choice(is_possible))"
   ]
  }
 ],
 "metadata": {
  "language_info": {
   "name": "python"
  }
 },
 "nbformat": 4,
 "nbformat_minor": 2
}
