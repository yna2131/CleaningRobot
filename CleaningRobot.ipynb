{
 "cells": [
  {
   "cell_type": "markdown",
   "metadata": {},
   "source": [
    "# **M1. ACTIVIDAD**\n",
    "Yuna Chung A01709043"
   ]
  },
  {
   "cell_type": "markdown",
   "metadata": {},
   "source": [
    "## **Propósito**\n",
    "Conocer y aplicar una herramienta para la implementación de sistemas multiagentes."
   ]
  },
  {
   "cell_type": "markdown",
   "metadata": {},
   "source": [
    "# **Instrucciones**\n",
    "Para este problema, debereás entregar, **de manera individual**, un informe en PDF que estudie las estadísticas de un robot de limpieza reactivo, así como el enlace al repositorio en Github del código desarrollado para esta actividad. El código debe ajustarse al estilo soclicita en el siguiente documento.\n",
    "\n",
    "**Dado:**\n",
    "- Habitación de MxN espacios\n",
    "- Número de agentes\n",
    "- Porcentaje de celdas inicialmente sucias\n",
    "- Tiempo máximo de ejecución\n",
    "\n",
    "**Realiza la siguiente simulación:**\n",
    "- Inicializa las celdas sucias (ubicaciones aleatorias)\n",
    "- Todos los agentes empiezan en la celda [1,1]\n",
    "- En cada paso de tiempo:\n",
    "    - Si la celda está sucia, entonces aspira\n",
    "    - Si la celda está limpia, el agente elije una dirección aleatoria para moverse (unas de las 8 celdas vecinas) y elije la acción de movimiento (si no puede moverse allí, permanecerá en la misma celda)\n",
    "- Se ejecuta el tiempo máximo establecido\n",
    "\n",
    "**Deberás recopilar la siguiente información durante la ejecución:**\n",
    "- Tiempo necesario hasta que todas las celdas estén limpias (o se haya llegado al tiempo máximo)\n",
    "- Porcentaje de celdas limpias después del termino de la simulación\n",
    "Número de movimientos realizados por todos los agentes.\n",
    "\n",
    "Analiza cómo la cantidad de agentes impacta el tiempo dedicado, así como la cantidad de movimientos realizados. Desarrollar un informe con lo observado."
   ]
  },
  {
   "cell_type": "code",
   "execution_count": 16,
   "metadata": {},
   "outputs": [],
   "source": [
    "from mesa import Agent, Model\n",
    "\n",
    "from mesa.space import MultiGrid\n",
    "\n",
    "from mesa.time import RandomActivation\n",
    "\n",
    "from mesa.datacollection import DataCollector\n",
    "\n",
    "%matplotlib inline\n",
    "import matplotlib\n",
    "import matplotlib.pyplot as plt\n",
    "import matplotlib.animation as animation\n",
    "plt.rcParams[\"animation.html\"] = \"jshtml\"\n",
    "matplotlib.rcParams['animation.embed_limit'] = 2**128\n",
    "\n",
    "import numpy as np\n",
    "import pandas as pd\n",
    "\n",
    "import time as tm"
   ]
  },
  {
   "cell_type": "code",
   "execution_count": 17,
   "metadata": {},
   "outputs": [],
   "source": [
    "class CleaningRobot(Agent):\n",
    "    def __init__(self, id, model):\n",
    "        super().__init__(id, model)\n",
    "\n",
    "    def step(self):\n",
    "        if (self.model.floor[self.pos[0]][self.pos[1]] == 1):\n",
    "            self.clean()\n",
    "        self.move()\n",
    "\n",
    "    def clean(self):\n",
    "        self.model.floor[self.pos[0]][self.pos[1]] = 0\n",
    "\n",
    "    def move(self):\n",
    "        close_cells = self.model.grid.get_neighborhood(self.pos, \n",
    "                                                       moore=True, \n",
    "                                                       include_center=False)\n",
    "        is_possible = [step for step in close_cells if self.model.grid.is_cell_empty(step)]\n",
    "\n",
    "        if is_possible:\n",
    "            self.model.grid.move_agent(self, self.random.choice(is_possible))"
   ]
  },
  {
   "cell_type": "code",
   "execution_count": 18,
   "metadata": {},
   "outputs": [],
   "source": [
    "class CleaningModel(Model):\n",
    "    def __init__(self, width, height, dirty_probability, num_agents):\n",
    "        self.num_agents = num_agents\n",
    "        self.initial_time = None\n",
    "        self.width = width\n",
    "        self.height = height\n",
    "        self.grid = MultiGrid(width, height, torus = False)\n",
    "        self.schedule = RandomActivation(self)\n",
    "        self.floor = np.zeros((width, height), dtype=np.float32)\n",
    "        self.datacollector = DataCollector(\n",
    "            model_reporters = {\"Clean\": self.count_clean,\n",
    "                               \"Position\": self.find_position},\n",
    "        )\n",
    "\n",
    "        for i in range(self.num_agents):\n",
    "            agent = CleaningRobot(i, self)\n",
    "            self.grid.place_agent(agent, (1,1))\n",
    "            self.schedule.add(agent)\n",
    "\n",
    "        for x in range(self.grid.width):\n",
    "            for y in range(self.grid.height):\n",
    "                if self.random.random() < dirty_probability:\n",
    "                    self.floor[x][y] = 1\n",
    "\n",
    "    def count_clean(self):\n",
    "        return self.floor.copy()\n",
    "    \n",
    "    def find_position(self):\n",
    "        agent_position = np.zeros((self.width, self.height), dtype=np.float32)\n",
    "        for agent in self.schedule.agents:\n",
    "            agent_position[agent.pos[0]][agent.pos[1]] = 1\n",
    "        return agent_position\n",
    "\n",
    "    def step(self):\n",
    "        if self.initial_time is None:\n",
    "            self.initial_time = tm.time()\n",
    "\n",
    "        self.datacollector.collect(self)\n",
    "        self.schedule.step()\n"
   ]
  },
  {
   "cell_type": "code",
   "execution_count": 19,
   "metadata": {},
   "outputs": [],
   "source": [
    "WIDTH = 10\n",
    "HEIGHT = 10\n",
    "MAX_STEPS = 100\n",
    "DIRTY_PROBABILITY = 0.9\n",
    "NUM_AGENTS = 1\n",
    "\n",
    "model = CleaningModel(WIDTH, HEIGHT, DIRTY_PROBABILITY, NUM_AGENTS)\n",
    "for i in range(MAX_STEPS):\n",
    "    model.step()"
   ]
  },
  {
   "cell_type": "code",
   "execution_count": 20,
   "metadata": {},
   "outputs": [],
   "source": [
    "all_grids = model.datacollector.get_model_vars_dataframe()"
   ]
  },
  {
   "cell_type": "code",
   "execution_count": 21,
   "metadata": {},
   "outputs": [
    {
     "data": {
      "image/png": "[encoded data removed]",
      "text/plain": [
       "<Figure size 500x500 with 1 Axes>"
      ]
     },
     "metadata": {},
     "output_type": "display_data"
    }
   ],
   "source": [
    "fig, axis = plt.subplots(figsize=(5, 5))\n",
    "axis.set_xticks([])\n",
    "axis.set_yticks([])\n",
    "\n",
    "data = all_grids.get(\"Clean\") + 3 * all_grids.get(\"Position\")\n",
    "patch = plt.imshow(data[0], cmap=plt.cm.binary)\n",
    "\n",
    "def animate(frame):\n",
    "    patch.set_data(data[frame])\n",
    "\n",
    "anim = animation.FuncAnimation(fig, animate, frames=MAX_STEPS)"
   ]
  },
  {
   "cell_type": "code",
   "execution_count": 22,
   "metadata": {},
   "outputs": [],
   "source": [
    "# anim"
   ]
  },
  {
   "cell_type": "code",
   "execution_count": 23,
   "metadata": {},
   "outputs": [],
   "source": [
    "def get_model_statics(WIDTH, HEIGHT, DIRTY_PROBABILITY, NUM_AGENTS, MAX_STEPS):\n",
    "    model = CleaningModel(WIDTH, HEIGHT, DIRTY_PROBABILITY, NUM_AGENTS)\n",
    "    for i in range(MAX_STEPS):\n",
    "        model.step()\n",
    "\n",
    "    end_time = tm.time()\n",
    "\n",
    "    cleaning_time = float(\"{:.2f}\".format(end_time - model.initial_time))\n",
    "    dirty_cells = model.datacollector.get_model_vars_dataframe().iloc[MAX_STEPS - 1][0].sum()\n",
    "\n",
    "    if dirty_cells == 0:\n",
    "        dirty_cells_percentage = 0\n",
    "    else:\n",
    "        dirty_cells_percentage = float(\"{:.2f}\".format(dirty_cells / (WIDTH * HEIGHT) * 100))\n",
    "    \n",
    "    return [cleaning_time, dirty_cells_percentage]"
   ]
  },
  {
   "cell_type": "code",
   "execution_count": 24,
   "metadata": {},
   "outputs": [],
   "source": [
    "# function to get the number of iterations and time to clean all the dirty cells in the floor\n",
    "\n",
    "def stas_cleaning_all(WIDTH, HEIGHT, DIRTY_PROBABILITY, NUM_AGENTS):\n",
    "    model = CleaningModel(WIDTH, HEIGHT, DIRTY_PROBABILITY, NUM_AGENTS)\n",
    "    steps_required = 0\n",
    "    \n",
    "    while(model.floor.sum() != 0):\n",
    "        model.step()\n",
    "        steps_required += 1\n",
    "\n",
    "    end_time = tm.time()\n",
    "    cleaning_time = float(\"{:.2f}\".format(end_time - model.initial_time))\n",
    "\n",
    "    return [steps_required, cleaning_time]"
   ]
  },
  {
   "cell_type": "markdown",
   "metadata": {},
   "source": [
    "## **Escenario 1**"
   ]
  },
  {
   "cell_type": "markdown",
   "metadata": {},
   "source": [
    "- 1 agente\n",
    "- 90% de celdas sucias"
   ]
  },
  {
   "cell_type": "code",
   "execution_count": 25,
   "metadata": {},
   "outputs": [
    {
     "name": "stderr",
     "output_type": "stream",
     "text": [
      "C:\\Users\\jn792\\AppData\\Local\\Temp\\ipykernel_11608\\3242394201.py:9: FutureWarning: Series.__getitem__ treating keys as positions is deprecated. In a future version, integer keys will always be treated as labels (consistent with DataFrame behavior). To access a value by position, use `ser.iloc[pos]`\n",
      "  dirty_cells = model.datacollector.get_model_vars_dataframe().iloc[MAX_STEPS - 1][0].sum()\n"
     ]
    },
    {
     "name": "stdout",
     "output_type": "stream",
     "text": [
      "100 iteraciones: \n",
      "\n",
      "Tiempo tardado para limpiar:  0.0  segundos\n",
      "Porcentaje de celdas sucias:  89.88 % \n",
      "\n",
      "1000 iteraciones: \n",
      "\n",
      "Time to clean:  0.03  seconds\n",
      "Dirty cells percentage:  86.33 % \n",
      "\n",
      "10000 iteraciones: \n",
      "\n",
      "Time to clean:  0.3  seconds\n",
      "Dirty cells percentage:  59.25 % \n",
      "\n"
     ]
    }
   ],
   "source": [
    "WIDTH = 100\n",
    "HEIGHT = 100\n",
    "MAX_STEPS = 100\n",
    "DIRTY_PROBABILITY = 0.9\n",
    "NUM_AGENTS = 1\n",
    "\n",
    "data = get_model_statics(WIDTH, HEIGHT, DIRTY_PROBABILITY, NUM_AGENTS, MAX_STEPS)\n",
    "\n",
    "print(\"100 iteraciones: \\n\")\n",
    "print(\"Tiempo tardado para limpiar: \", data[0], \" segundos\")\n",
    "print(\"Porcentaje de celdas sucias: \", data[1], \"% \\n\")\n",
    "\n",
    "MAX_STEPS = 1000\n",
    "\n",
    "data = get_model_statics(WIDTH, HEIGHT, DIRTY_PROBABILITY, NUM_AGENTS, MAX_STEPS)\n",
    "\n",
    "print(\"1000 iteraciones: \\n\")\n",
    "print(\"Time to clean: \", data[0], \" seconds\")\n",
    "print(\"Dirty cells percentage: \", data[1], \"% \\n\")\n",
    "\n",
    "MAX_STEPS = 10000\n",
    "\n",
    "data = get_model_statics(WIDTH, HEIGHT, DIRTY_PROBABILITY, NUM_AGENTS, MAX_STEPS)\n",
    "\n",
    "print(\"10000 iteraciones: \\n\")\n",
    "print(\"Time to clean: \", data[0], \" seconds\")\n",
    "print(\"Dirty cells percentage: \", data[1], \"% \\n\")\n"
   ]
  },
  {
   "cell_type": "markdown",
   "metadata": {},
   "source": [
    "## **Escenario 2**"
   ]
  },
  {
   "cell_type": "markdown",
   "metadata": {},
   "source": [
    "- 2 agentes\n",
    "- 90% de celdas sucias"
   ]
  },
  {
   "cell_type": "code",
   "execution_count": 26,
   "metadata": {},
   "outputs": [
    {
     "name": "stdout",
     "output_type": "stream",
     "text": [
      "100 iteraciones: \n",
      "\n",
      "Tiempo tardado para limpiar:  0.0  segundos\n",
      "Porcentaje de celdas sucias:  89.91 % \n",
      "\n",
      "1000 iteraciones: \n",
      "\n",
      "Time to clean:  0.04  seconds\n",
      "Dirty cells percentage:  84.95 % \n",
      "\n"
     ]
    },
    {
     "name": "stderr",
     "output_type": "stream",
     "text": [
      "C:\\Users\\jn792\\AppData\\Local\\Temp\\ipykernel_11608\\3242394201.py:9: FutureWarning: Series.__getitem__ treating keys as positions is deprecated. In a future version, integer keys will always be treated as labels (consistent with DataFrame behavior). To access a value by position, use `ser.iloc[pos]`\n",
      "  dirty_cells = model.datacollector.get_model_vars_dataframe().iloc[MAX_STEPS - 1][0].sum()\n"
     ]
    },
    {
     "name": "stdout",
     "output_type": "stream",
     "text": [
      "10000 iteraciones: \n",
      "\n",
      "Time to clean:  0.35  seconds\n",
      "Dirty cells percentage:  45.95 % \n",
      "\n"
     ]
    }
   ],
   "source": [
    "WIDTH = 100\n",
    "HEIGHT = 100\n",
    "MAX_STEPS = 100\n",
    "DIRTY_PROBABILITY = 0.9\n",
    "NUM_AGENTS = 2\n",
    "\n",
    "data = get_model_statics(WIDTH, HEIGHT, DIRTY_PROBABILITY, NUM_AGENTS, MAX_STEPS)\n",
    "\n",
    "print(\"100 iteraciones: \\n\")\n",
    "print(\"Tiempo tardado para limpiar: \", data[0], \" segundos\")\n",
    "print(\"Porcentaje de celdas sucias: \", data[1], \"% \\n\")\n",
    "\n",
    "MAX_STEPS = 1000\n",
    "\n",
    "data = get_model_statics(WIDTH, HEIGHT, DIRTY_PROBABILITY, NUM_AGENTS, MAX_STEPS)\n",
    "\n",
    "print(\"1000 iteraciones: \\n\")\n",
    "print(\"Time to clean: \", data[0], \" seconds\")\n",
    "print(\"Dirty cells percentage: \", data[1], \"% \\n\")\n",
    "\n",
    "MAX_STEPS = 10000\n",
    "\n",
    "data = get_model_statics(WIDTH, HEIGHT, DIRTY_PROBABILITY, NUM_AGENTS, MAX_STEPS)\n",
    "\n",
    "print(\"10000 iteraciones: \\n\")\n",
    "print(\"Time to clean: \", data[0], \" seconds\")\n",
    "print(\"Dirty cells percentage: \", data[1], \"% \\n\")\n"
   ]
  },
  {
   "cell_type": "markdown",
   "metadata": {},
   "source": [
    "## **ESTADÍSTICA POR DIFERENTES NÚMEROS DE AGENTES**"
   ]
  },
  {
   "cell_type": "markdown",
   "metadata": {},
   "source": [
    "#### **Porcentaje de Celdas sucias por diferentes números de agentes**"
   ]
  },
  {
   "cell_type": "code",
   "execution_count": 27,
   "metadata": {},
   "outputs": [
    {
     "name": "stdout",
     "output_type": "stream",
     "text": [
      "Número de agentes:  1\n",
      "Tiempo tardado para limpiar:  0.01  segundos\n",
      "Porcentaje de celdas sucias:  77.72 % \n",
      "\n"
     ]
    },
    {
     "name": "stderr",
     "output_type": "stream",
     "text": [
      "C:\\Users\\jn792\\AppData\\Local\\Temp\\ipykernel_11608\\3242394201.py:9: FutureWarning: Series.__getitem__ treating keys as positions is deprecated. In a future version, integer keys will always be treated as labels (consistent with DataFrame behavior). To access a value by position, use `ser.iloc[pos]`\n",
      "  dirty_cells = model.datacollector.get_model_vars_dataframe().iloc[MAX_STEPS - 1][0].sum()\n"
     ]
    },
    {
     "name": "stdout",
     "output_type": "stream",
     "text": [
      "Número de agentes:  2\n",
      "Tiempo tardado para limpiar:  1.75  segundos\n",
      "Porcentaje de celdas sucias:  63.28 % \n",
      "\n",
      "Número de agentes:  3\n",
      "Tiempo tardado para limpiar:  0.03  segundos\n",
      "Porcentaje de celdas sucias:  57.76 % \n",
      "\n",
      "Número de agentes:  4\n",
      "Tiempo tardado para limpiar:  0.01  segundos\n",
      "Porcentaje de celdas sucias:  49.08 % \n",
      "\n",
      "Número de agentes:  5\n",
      "Tiempo tardado para limpiar:  0.02  segundos\n",
      "Porcentaje de celdas sucias:  56.24 % \n",
      "\n",
      "Número de agentes:  6\n",
      "Tiempo tardado para limpiar:  0.04  segundos\n",
      "Porcentaje de celdas sucias:  48.84 % \n",
      "\n",
      "Número de agentes:  7\n",
      "Tiempo tardado para limpiar:  0.03  segundos\n",
      "Porcentaje de celdas sucias:  43.32 % \n",
      "\n",
      "Número de agentes:  8\n",
      "Tiempo tardado para limpiar:  0.05  segundos\n",
      "Porcentaje de celdas sucias:  50.08 % \n",
      "\n",
      "Número de agentes:  9\n",
      "Tiempo tardado para limpiar:  0.05  segundos\n",
      "Porcentaje de celdas sucias:  38.88 % \n",
      "\n",
      "Número de agentes:  10\n",
      "Tiempo tardado para limpiar:  0.05  segundos\n",
      "Porcentaje de celdas sucias:  34.84 % \n",
      "\n"
     ]
    }
   ],
   "source": [
    "WIDTH = 50\n",
    "HEIGHT = 50\n",
    "MAX_STEPS = 1000\n",
    "DIRTY_PROBABILITY = 0.9\n",
    "NUM_AGENTS = [1,2,3,4,5,6,7,8,9,10]\n",
    "\n",
    "for i in NUM_AGENTS:\n",
    "    data = get_model_statics(WIDTH, HEIGHT, DIRTY_PROBABILITY, i, MAX_STEPS)\n",
    "    print(\"Número de agentes: \", i)\n",
    "    print(\"Tiempo tardado para limpiar: \", data[0], \" segundos\")\n",
    "    print(\"Porcentaje de celdas sucias: \", data[1], \"% \\n\")"
   ]
  },
  {
   "cell_type": "code",
   "execution_count": 28,
   "metadata": {},
   "outputs": [
    {
     "name": "stderr",
     "output_type": "stream",
     "text": [
      "C:\\Users\\jn792\\AppData\\Local\\Temp\\ipykernel_11608\\3242394201.py:9: FutureWarning: Series.__getitem__ treating keys as positions is deprecated. In a future version, integer keys will always be treated as labels (consistent with DataFrame behavior). To access a value by position, use `ser.iloc[pos]`\n",
      "  dirty_cells = model.datacollector.get_model_vars_dataframe().iloc[MAX_STEPS - 1][0].sum()\n"
     ]
    },
    {
     "data": {
      "image/png": "[encoded data removed]",
      "text/plain": [
       "<Figure size 640x480 with 1 Axes>"
      ]
     },
     "metadata": {},
     "output_type": "display_data"
    }
   ],
   "source": [
    "data = []\n",
    "for i in NUM_AGENTS:\n",
    "    data.append(get_model_statics(WIDTH, HEIGHT, DIRTY_PROBABILITY, i, MAX_STEPS)[1])\n",
    "\n",
    "plt.plot(NUM_AGENTS, data)\n",
    "plt.xlabel('Número de agentes')\n",
    "plt.ylabel('Porcentaje de celdas sucias')\n",
    "plt.show()"
   ]
  },
  {
   "cell_type": "code",
   "execution_count": 29,
   "metadata": {},
   "outputs": [
    {
     "data": {
      "image/png": "[encoded data removed]",
      "text/plain": [
       "<Figure size 640x480 with 1 Axes>"
      ]
     },
     "metadata": {},
     "output_type": "display_data"
    }
   ],
   "source": [
    "step= []\n",
    "for i in NUM_AGENTS:\n",
    "    step.append(stas_cleaning_all(WIDTH, HEIGHT, DIRTY_PROBABILITY, i)[0])\n",
    "\n",
    "plt.plot(NUM_AGENTS, step)\n",
    "plt.xlabel('Número de agentes')\n",
    "plt.ylabel('Número de pasos')\n",
    "plt.show()\n"
   ]
  },
  {
   "cell_type": "code",
   "execution_count": 30,
   "metadata": {},
   "outputs": [
    {
     "data": {
      "image/png": "[encoded data removed]",
      "text/plain": [
       "<Figure size 640x480 with 1 Axes>"
      ]
     },
     "metadata": {},
     "output_type": "display_data"
    }
   ],
   "source": [
    "time = []\n",
    "for i in NUM_AGENTS:\n",
    "    time.append(stas_cleaning_all(WIDTH, HEIGHT, DIRTY_PROBABILITY, i)[1])\n",
    "\n",
    "plt.plot(NUM_AGENTS, time)\n",
    "plt.xlabel('Número de agentes')\n",
    "plt.ylabel('Tiempo de limpieza')\n",
    "plt.show()"
   ]
  }
 ],
 "metadata": {
  "kernelspec": {
   "display_name": "Python 3",
   "language": "python",
   "name": "python3"
  },
  "language_info": {
   "codemirror_mode": {
    "name": "ipython",
    "version": 3
   },
   "file_extension": ".py",
   "mimetype": "text/x-python",
   "name": "python",
   "nbconvert_exporter": "python",
   "pygments_lexer": "ipython3",
   "version": "3.12.0"
  }
 },
 "nbformat": 4,
 "nbformat_minor": 2
}
