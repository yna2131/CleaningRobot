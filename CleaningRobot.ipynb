{
 "cells": [
  {
   "cell_type": "markdown",
   "metadata": {},
   "source": [
    "# **M1. ACTIVIDAD**\n",
    "Yuna Chung A01709043"
   ]
  },
  {
   "cell_type": "markdown",
   "metadata": {},
   "source": [
    "## **Propósito**\n",
    "Conocer y aplicar una herramienta para la implementación de sistemas multiagentes."
   ]
  },
  {
   "cell_type": "markdown",
   "metadata": {},
   "source": [
    "# **Instrucciones**\n",
    "Para este problema, debereás entregar, **de manera individual**, un informe en PDF que estudie las estadísticas de un robot de limpieza reactivo, así como el enlace al repositorio en Github del código desarrollado para esta actividad. El código debe ajustarse al estilo soclicita en el siguiente documento.\n",
    "\n",
    "**Dado:**\n",
    "- Habitación de MxN espacios\n",
    "- Número de agentes\n",
    "- Porcentaje de celdas inicialmente sucias\n",
    "- Tiempo máximo de ejecución\n",
    "\n",
    "**Realiza la siguiente simulación:**\n",
    "- Inicializa las celdas sucias (ubicaciones aleatorias)\n",
    "- Todos los agentes empiezan en la celda [1,1]\n",
    "- En cada paso de tiempo:\n",
    "    - Si la celda está sucia, entonces aspira\n",
    "    - Si la celda está limpia, el agente elije una dirección aleatoria para moverse (unas de las 8 celdas vecinas) y elije la acción de movimiento (si no puede moverse allí, permanecerá en la misma celda)\n",
    "- Se ejecuta el tiempo máximo establecido\n",
    "\n",
    "**Deberás recopilar la siguiente información durante la ejecución:**\n",
    "- Tiempo necesario hasta que todas las celdas estén limpias (o se haya llegado al tiempo máximo)\n",
    "- Porcentaje de celdas limpias después del termino de la simulación\n",
    "Número de movimientos realizados por todos los agentes.\n",
    "\n",
    "Analiza cómo la cantidad de agentes impacta el tiempo dedicado, así como la cantidad de movimientos realizados. Desarrollar un informe con lo observado."
   ]
  }
 ],
 "metadata": {
  "language_info": {
   "name": "python"
  }
 },
 "nbformat": 4,
 "nbformat_minor": 2
}
